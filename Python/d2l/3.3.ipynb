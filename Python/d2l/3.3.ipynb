{
 "cells": [
  {
   "cell_type": "code",
   "execution_count": 29,
   "metadata": {},
   "outputs": [],
   "source": [
    "%matplotlib inline\n",
    "import random\n",
    "import torch\n",
    "from d2l import torch as d2l"
   ]
  },
  {
   "cell_type": "code",
   "execution_count": 30,
   "metadata": {},
   "outputs": [],
   "source": [
    "class SyntheticRegressionData(d2l.DataModule):  #@save\n",
    "    \"\"\"Synthetic data for linear regression.\"\"\"\n",
    "    '''\n",
    "    w：线性模型的权重向量。\n",
    "    b：线性模型的偏置项。\n",
    "    noise：生成数据时添加的噪声水平，默认值为0.01。\n",
    "    num_train：训练数据集的数据点数量，默认值为1000。\n",
    "    num_val：验证数据集的数据点数量，默认值为1000。\n",
    "    batch_size：批处理大小，默认值为32。\n",
    "    '''\n",
    "\n",
    "    def __init__(self,\n",
    "                 w,\n",
    "                 b,\n",
    "                 noise=0.01,\n",
    "                 num_train=1000,\n",
    "                 num_val=1000,\n",
    "                 batch_size=32):\n",
    "        super().__init__()\n",
    "        self.save_hyperparameters()\n",
    "        n = num_train + num_val  # 计算总数据点数\n",
    "        # 生成一个形状为(n, len(w))的张量X，其中n是数据点的总数，len(w)是特征的数量。\n",
    "        # 这里使用torch.randn生成标准正态分布（均值为0，方差为1）的随机数作为特征数据\n",
    "        self.X = torch.randn(n, len(w))\n",
    "        noise = torch.randn(n, 1) * noise\n",
    "        self.y = torch.matmul(self.X, w.reshape((-1, 1))) + b + noise\n",
    "\n",
    "    def get_dataloader(self, train):\n",
    "        if train:\n",
    "            indices = list(range(0, self.num_train))\n",
    "            # The examples are read in random order\n",
    "            random.shuffle(indices)\n",
    "        else:\n",
    "            indices = list(range(self.num_train,\n",
    "                                 self.num_train + self.num_val))\n",
    "        for i in range(0, len(indices), self.batch_size):\n",
    "            batch_indices = torch.tensor(indices[i:i + self.batch_size])\n",
    "            yield self.X[batch_indices], self.y[batch_indices]\n",
    "\n",
    "    def get_tensorloader(self, tensors, train, indices=slice(0, None)):\n",
    "        '''\n",
    "        定义了一个名为get_tensorloader的方法，\n",
    "        接收参数tensors（一个包含一个或多个张量的元组），\n",
    "        train（布尔值，指示是否为训练模式，影响数据是否被打乱），\n",
    "        以及indices（用于从张量中选择数据的索引，默为全选）。\n",
    "        '''\n",
    "        print('indices', indices)\n",
    "        print('get_tensorloader 1   tensors:', tensors)\n",
    "        # 下面的a 即是X，y，将X，y切片后，重新组成tuple\n",
    "        tensors = tuple(a[indices] for a in tensors)\n",
    "        print('get_tensorloader 2   tensors:', tensors)\n",
    "        #使用索引后的张量创建了一个TensorDataset对象。TensorDataset是PyTorch中的一个数据集类，它能够包装特征张量和标签张量，使得两者能够一起被DataLoader加载\n",
    "        dataset = torch.utils.data.TensorDataset(*tensors)\n",
    "        #这行代码创建了一个DataLoader对象。这个对象从dataset中按照self.batch_size指定的批量大小加载数据。如果train为True，则通过shuffle=train参数打乱数据，以支持训练时的随机性。\n",
    "        return torch.utils.data.DataLoader(dataset,\n",
    "                                           self.batch_size,\n",
    "                                           shuffle=train)\n",
    "\n",
    "    def get_dataloader(self, train):\n",
    "        i = slice(0, self.num_train) if train else slice(self.num_train, None)\n",
    "        return self.get_tensorloader((self.X, self.y), train, i)"
   ]
  },
  {
   "cell_type": "code",
   "execution_count": 31,
   "metadata": {},
   "outputs": [
    {
     "name": "stdout",
     "output_type": "stream",
     "text": [
      "features: tensor([-0.5385,  1.0862]) \n",
      "label: tensor([-0.5611])\n",
      "features: tensor([[-0.5385,  1.0862],\n",
      "        [ 1.8050,  0.2952],\n",
      "        [ 0.5277, -0.7342],\n",
      "        ...,\n",
      "        [-0.1380,  0.1934],\n",
      "        [ 1.4930,  1.2504],\n",
      "        [-0.3382, -0.1487]])\n"
     ]
    }
   ],
   "source": [
    "data = SyntheticRegressionData(w=torch.tensor([2, -3.4]), b=4.2)\n",
    "print('features:', data.X[0],'\\nlabel:', data.y[0])\n",
    "print('features:', data.X)"
   ]
  },
  {
   "cell_type": "code",
   "execution_count": 32,
   "metadata": {},
   "outputs": [
    {
     "name": "stdout",
     "output_type": "stream",
     "text": [
      "indices slice(0, 1000, None)\n",
      "get_tensorloader 1   tensors: (tensor([[-0.5385,  1.0862],\n",
      "        [ 1.8050,  0.2952],\n",
      "        [ 0.5277, -0.7342],\n",
      "        ...,\n",
      "        [-0.1380,  0.1934],\n",
      "        [ 1.4930,  1.2504],\n",
      "        [-0.3382, -0.1487]]), tensor([[-0.5611],\n",
      "        [ 6.8217],\n",
      "        [ 7.7492],\n",
      "        ...,\n",
      "        [ 3.2626],\n",
      "        [ 2.9329],\n",
      "        [ 4.0428]]))\n",
      "get_tensorloader 2   tensors: (tensor([[-0.5385,  1.0862],\n",
      "        [ 1.8050,  0.2952],\n",
      "        [ 0.5277, -0.7342],\n",
      "        ...,\n",
      "        [-0.1380,  0.1934],\n",
      "        [ 1.4930,  1.2504],\n",
      "        [-0.3382, -0.1487]]), tensor([[-0.5611],\n",
      "        [ 6.8217],\n",
      "        [ 7.7492],\n",
      "        ...,\n",
      "        [ 3.2626],\n",
      "        [ 2.9329],\n",
      "        [ 4.0428]]))\n",
      "X shape: torch.Size([32, 2]) \n",
      "y shape: torch.Size([32, 1])\n"
     ]
    }
   ],
   "source": [
    "X, y = next(iter(data.train_dataloader()))\n",
    "print('X shape:', X.shape, '\\ny shape:', y.shape)"
   ]
  },
  {
   "cell_type": "code",
   "execution_count": null,
   "metadata": {},
   "outputs": [],
   "source": []
  },
  {
   "cell_type": "code",
   "execution_count": null,
   "metadata": {},
   "outputs": [],
   "source": []
  },
  {
   "cell_type": "code",
   "execution_count": null,
   "metadata": {},
   "outputs": [],
   "source": []
  }
 ],
 "metadata": {
  "kernelspec": {
   "display_name": "d2l",
   "language": "python",
   "name": "python3"
  },
  "language_info": {
   "codemirror_mode": {
    "name": "ipython",
    "version": 3
   },
   "file_extension": ".py",
   "mimetype": "text/x-python",
   "name": "python",
   "nbconvert_exporter": "python",
   "pygments_lexer": "ipython3",
   "version": "3.9.19"
  }
 },
 "nbformat": 4,
 "nbformat_minor": 2
}
