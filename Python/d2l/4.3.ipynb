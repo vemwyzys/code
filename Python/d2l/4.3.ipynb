{
 "cells": [
  {
   "cell_type": "code",
   "execution_count": 1,
   "metadata": {},
   "outputs": [],
   "source": [
    "import torch\n",
    "from d2l import torch as d2l"
   ]
  },
  {
   "cell_type": "code",
   "execution_count": null,
   "metadata": {},
   "outputs": [],
   "source": [
    "class Classifier(d2l.Module):  #@save\n",
    "    \"\"\"The base class of classification models.\"\"\"\n",
    "\n",
    "    def validation_step(self, batch):\n",
    "        #batch[:-1]表示取batch中除了最后一个元素之外的所有元素，这通常指的是输入特征X（如果batch只包含了特征和标签）。\n",
    "        # *是Python中的解包操作符，它将batch[:-1]解包成多个独立的参数，然后传递给模型。\n",
    "        # 这种方式使得方法能够处理不仅仅是特征和标签，还可以处理其他可能传入模型的额外数据。\n",
    "        Y_hat = self(*batch[:-1])\n",
    "        # batch[-1]是当前批次的真实标签\n",
    "        self.plot('loss', self.loss(Y_hat, batch[-1]), train=False)\n",
    "        self.plot('acc', self.accuracy(Y_hat, batch[-1]), train=False)\n",
    "\n",
    "    def configure_optimizers(self):\n",
    "        return torch.optim.SGD(self.parameters(), lr=self.lr)\n",
    "\n",
    "    #提供了一种通用且灵活的方式来计算模型在给定数据上的准确率，无论是获取整体平均准确率还是每个样本的准确性。\n",
    "    def accuracy(self, Y_hat, Y, averaged=True):\n",
    "        \"\"\"Compute the number of correct predictions.\"\"\"\n",
    "        # Y_hat: 模型的预测输出，通常是一个具有概率分布形式的张量，其中每行代表一个样本，每列代表一个类别的预测概率。\n",
    "        # averaged是一个布尔值，指示是否返回所有样本的准确率平均值。默认为True。\n",
    "\n",
    "        # 这行代码重新塑形Y_hat，确保它是一个二维张量，其中第一维是样本数量，第二维是类别数量。这对于处理在前向传播过程中可能产生的多余维度很有用。\n",
    "        Y_hat = Y_hat.reshape((-1, Y_hat.shape[-1]))\n",
    "        # 这行代码找出Y_hat中每行最大值的索引，即模型预测的类别。\n",
    "        # .argmax(axis=1)沿着每一行进行操作，返回每个样本最高概率类别的索引。.type(Y.dtype)确保预测的数据类型与真实标签Y的类型相匹配。\n",
    "        preds = Y_hat.argmax(axis=1).type(Y.dtype)\n",
    "        compare = (preds == Y.reshape(-1)).type(torch.float32)\n",
    "        return compare.mean() if averaged else compare"
   ]
  }
 ],
 "metadata": {
  "kernelspec": {
   "display_name": "d2l",
   "language": "python",
   "name": "python3"
  },
  "language_info": {
   "codemirror_mode": {
    "name": "ipython",
    "version": 3
   },
   "file_extension": ".py",
   "mimetype": "text/x-python",
   "name": "python",
   "nbconvert_exporter": "python",
   "pygments_lexer": "ipython3",
   "version": "3.9.19"
  }
 },
 "nbformat": 4,
 "nbformat_minor": 2
}
