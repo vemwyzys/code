{
 "cells": [
  {
   "cell_type": "code",
   "execution_count": 1,
   "metadata": {},
   "outputs": [],
   "source": [
    "import torch\n",
    "from torch import nn\n",
    "from torch.nn import functional as F\n",
    "from d2l import torch as d2l"
   ]
  },
  {
   "cell_type": "code",
   "execution_count": 2,
   "metadata": {},
   "outputs": [],
   "source": [
    "class SoftmaxRegression(d2l.Classifier):  #@save\n",
    "    \"\"\"The softmax regression model.\"\"\"\n",
    "\n",
    "    def __init__(self, num_outputs, lr):\n",
    "        super().__init__()\n",
    "        self.save_hyperparameters()\n",
    "        ''' 这是模型的主体，由PyTorch的nn.Sequential容器定义。nn.Sequential是一个顺序容器，模块按照它们传入的顺序被添加到计算图中，并且自动处理输入和输出之间的连接。\n",
    "        在这个模型中，self.net包含了两个子模块：\n",
    "          nn.Flatten(): 这个层将输入张量展平，除了批次维度（第一个维度）外。这对于将图像数据（通常是多维的）转换为线性分类器可以接受的一维特征向量是必需的。\n",
    "          nn.LazyLinear(num_outputs): LazyLinear是一个线性层，其特点是在第一次调用的时候自动推断输入特征的数量，从而避免了手动指定输入特征数量的需要。\n",
    "          num_outputs指定了这个线性层的输出特征的数量，也就是分类问题中的类别数。'''\n",
    "        self.net = nn.Sequential(nn.Flatten(), nn.LazyLinear(num_outputs))\n",
    "\n",
    "    def forward(self, X):\n",
    "        # 简单地将输入X传递给之前定义的self.net序列模型，输出模型的直接结果\n",
    "        return self.net(X)"
   ]
  },
  {
   "cell_type": "code",
   "execution_count": null,
   "metadata": {},
   "outputs": [],
   "source": []
  }
 ],
 "metadata": {
  "kernelspec": {
   "display_name": "d2l",
   "language": "python",
   "name": "python3"
  },
  "language_info": {
   "codemirror_mode": {
    "name": "ipython",
    "version": 3
   },
   "file_extension": ".py",
   "mimetype": "text/x-python",
   "name": "python",
   "nbconvert_exporter": "python",
   "pygments_lexer": "ipython3",
   "version": "3.9.19"
  }
 },
 "nbformat": 4,
 "nbformat_minor": 2
}
