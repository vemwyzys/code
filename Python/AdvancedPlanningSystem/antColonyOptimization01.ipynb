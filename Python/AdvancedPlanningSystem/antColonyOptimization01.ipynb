{
 "cells": [
  {
   "cell_type": "code",
   "execution_count": null,
   "metadata": {},
   "outputs": [],
   "source": [
    "import numpy as np\n",
    "\n",
    "# 假设我们的线性规划问题是最小化目标函数 c^T x，其中 c = [1, 2]，且受到约束 x1 + x2 <= 10, x1 >= 0, x2 >= 0\n",
    "\n",
    "# 蚁群算法参数\n",
    "num_ants = 10  # 蚂蚁数量\n",
    "num_iterations = 100  # 迭代次数\n",
    "decay = 0.8  # 信息素蒸发率\n",
    "alpha = 1  # 信息素重要程度因子\n",
    "beta = 1  # 启发函数重要程度因子\n",
    "\n",
    "# 初始化\n",
    "pheromone_trails = np.ones((10, 10))  # 假设解空间在 [0, 9] x [0, 9] 的格点上\n",
    "best_cost = float('inf')\n",
    "best_solution = None\n",
    "\n",
    "for iteration in range(num_iterations):\n",
    "    solutions = []\n",
    "    for ant in range(num_ants):\n",
    "        # 随机选择起点\n",
    "        solution = np.random.choice(range(10), 2) # 随机选择两个数字，构成一个数组\n",
    "        cost = np.dot(solution, [1, 2])  # 计算成本，这里直接使用了目标函数\n",
    "        \n",
    "        # 更新最佳解\n",
    "        if cost < best_cost and np.sum(solution) <= 10:  # 确保解满足约束条件\n",
    "            best_cost = cost\n",
    "            best_solution = solution\n",
    "        \n",
    "        solutions.append((solution, cost))\n",
    "    \n",
    "    # 更新信息素\n",
    "    for solution, cost in solutions:\n",
    "        pheromone_trails[solution[0], solution[1]] += 10.0 / cost  # 信息素增加量与成本成反比\n",
    "    \n",
    "    # 信息素蒸发\n",
    "    pheromone_trails *= decay\n",
    "\n",
    "print(f\"Best Solution: {best_solution} with Cost: {best_cost}\")"
   ]
  }
 ],
 "metadata": {
  "language_info": {
   "name": "python"
  }
 },
 "nbformat": 4,
 "nbformat_minor": 2
}
